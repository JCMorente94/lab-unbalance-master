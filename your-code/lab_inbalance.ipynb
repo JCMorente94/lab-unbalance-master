{
 "cells": [
  {
   "cell_type": "markdown",
   "metadata": {},
   "source": [
    "# Inbalanced Classes\n",
    "## In this lab, we are going to explore a case of imbalanced classes. \n",
    "\n",
    "\n",
    "Like we disussed in class, when we have noisy data, if we are not careful, we can end up fitting our model to the noise in the data and not the 'signal'-- the factors that actually determine the outcome. This is called overfitting, and results in good results in training, and in bad results when the model is applied to real data. Similarly, we could have a model that is too simplistic to accurately model the signal. This produces a model that doesnt work well (ever). \n"
   ]
  },
  {
   "cell_type": "code",
   "execution_count": 77,
   "metadata": {
    "ExecuteTime": {
     "end_time": "2020-05-01T22:01:47.807107Z",
     "start_time": "2020-05-01T22:01:47.797134Z"
    }
   },
   "outputs": [],
   "source": [
    "import pandas as pd\n",
    "import numpy as np\n",
    "import seaborn as sns\n",
    "from imblearn.under_sampling import NearMiss, RandomUnderSampler\n",
    "from imblearn.over_sampling import SMOTE\n",
    "from sklearn.linear_model import LogisticRegression\n",
    "from sklearn.model_selection import train_test_split\n",
    "from sklearn.metrics import confusion_matrix, accuracy_score, classification_report\n",
    "from sklearn.neighbors import KNeighborsClassifier\n",
    "from sklearn.preprocessing import RobustScaler\n",
    "from sklearn.linear_model import ElasticNet"
   ]
  },
  {
   "cell_type": "markdown",
   "metadata": {},
   "source": [
    "### First, download the data from: https://www.kaggle.com/ntnu-testimon/paysim1. Import the dataset and provide some discriptive statistics and plots. What do you think will be the important features in determining the outcome?"
   ]
  },
  {
   "cell_type": "code",
   "execution_count": 2,
   "metadata": {
    "ExecuteTime": {
     "end_time": "2020-05-01T19:56:21.234556Z",
     "start_time": "2020-05-01T19:56:00.660961Z"
    }
   },
   "outputs": [],
   "source": [
    "# Your code here\n",
    "data = pd.read_csv(\"PS.csv\")"
   ]
  },
  {
   "cell_type": "code",
   "execution_count": 3,
   "metadata": {
    "ExecuteTime": {
     "end_time": "2020-05-01T19:56:21.259493Z",
     "start_time": "2020-05-01T19:56:21.237550Z"
    }
   },
   "outputs": [
    {
     "name": "stdout",
     "output_type": "stream",
     "text": [
      "<class 'pandas.core.frame.DataFrame'>\n",
      "RangeIndex: 6362620 entries, 0 to 6362619\n",
      "Data columns (total 11 columns):\n",
      "step              int64\n",
      "type              object\n",
      "amount            float64\n",
      "nameOrig          object\n",
      "oldbalanceOrg     float64\n",
      "newbalanceOrig    float64\n",
      "nameDest          object\n",
      "oldbalanceDest    float64\n",
      "newbalanceDest    float64\n",
      "isFraud           int64\n",
      "isFlaggedFraud    int64\n",
      "dtypes: float64(5), int64(3), object(3)\n",
      "memory usage: 534.0+ MB\n"
     ]
    }
   ],
   "source": [
    "data.info()"
   ]
  },
  {
   "cell_type": "code",
   "execution_count": 4,
   "metadata": {
    "ExecuteTime": {
     "end_time": "2020-05-01T19:56:21.437852Z",
     "start_time": "2020-05-01T19:56:21.263482Z"
    }
   },
   "outputs": [
    {
     "data": {
      "text/html": [
       "<div>\n",
       "<style scoped>\n",
       "    .dataframe tbody tr th:only-of-type {\n",
       "        vertical-align: middle;\n",
       "    }\n",
       "\n",
       "    .dataframe tbody tr th {\n",
       "        vertical-align: top;\n",
       "    }\n",
       "\n",
       "    .dataframe thead th {\n",
       "        text-align: right;\n",
       "    }\n",
       "</style>\n",
       "<table border=\"1\" class=\"dataframe\">\n",
       "  <thead>\n",
       "    <tr style=\"text-align: right;\">\n",
       "      <th></th>\n",
       "      <th>step</th>\n",
       "      <th>type</th>\n",
       "      <th>amount</th>\n",
       "      <th>nameOrig</th>\n",
       "      <th>oldbalanceOrg</th>\n",
       "      <th>newbalanceOrig</th>\n",
       "      <th>nameDest</th>\n",
       "      <th>oldbalanceDest</th>\n",
       "      <th>newbalanceDest</th>\n",
       "      <th>isFraud</th>\n",
       "      <th>isFlaggedFraud</th>\n",
       "    </tr>\n",
       "  </thead>\n",
       "  <tbody>\n",
       "    <tr>\n",
       "      <td>0</td>\n",
       "      <td>1</td>\n",
       "      <td>PAYMENT</td>\n",
       "      <td>9839.64</td>\n",
       "      <td>C1231006815</td>\n",
       "      <td>170136.0</td>\n",
       "      <td>160296.36</td>\n",
       "      <td>M1979787155</td>\n",
       "      <td>0.0</td>\n",
       "      <td>0.0</td>\n",
       "      <td>0</td>\n",
       "      <td>0</td>\n",
       "    </tr>\n",
       "    <tr>\n",
       "      <td>1</td>\n",
       "      <td>1</td>\n",
       "      <td>PAYMENT</td>\n",
       "      <td>1864.28</td>\n",
       "      <td>C1666544295</td>\n",
       "      <td>21249.0</td>\n",
       "      <td>19384.72</td>\n",
       "      <td>M2044282225</td>\n",
       "      <td>0.0</td>\n",
       "      <td>0.0</td>\n",
       "      <td>0</td>\n",
       "      <td>0</td>\n",
       "    </tr>\n",
       "    <tr>\n",
       "      <td>2</td>\n",
       "      <td>1</td>\n",
       "      <td>TRANSFER</td>\n",
       "      <td>181.00</td>\n",
       "      <td>C1305486145</td>\n",
       "      <td>181.0</td>\n",
       "      <td>0.00</td>\n",
       "      <td>C553264065</td>\n",
       "      <td>0.0</td>\n",
       "      <td>0.0</td>\n",
       "      <td>1</td>\n",
       "      <td>0</td>\n",
       "    </tr>\n",
       "    <tr>\n",
       "      <td>3</td>\n",
       "      <td>1</td>\n",
       "      <td>CASH_OUT</td>\n",
       "      <td>181.00</td>\n",
       "      <td>C840083671</td>\n",
       "      <td>181.0</td>\n",
       "      <td>0.00</td>\n",
       "      <td>C38997010</td>\n",
       "      <td>21182.0</td>\n",
       "      <td>0.0</td>\n",
       "      <td>1</td>\n",
       "      <td>0</td>\n",
       "    </tr>\n",
       "    <tr>\n",
       "      <td>4</td>\n",
       "      <td>1</td>\n",
       "      <td>PAYMENT</td>\n",
       "      <td>11668.14</td>\n",
       "      <td>C2048537720</td>\n",
       "      <td>41554.0</td>\n",
       "      <td>29885.86</td>\n",
       "      <td>M1230701703</td>\n",
       "      <td>0.0</td>\n",
       "      <td>0.0</td>\n",
       "      <td>0</td>\n",
       "      <td>0</td>\n",
       "    </tr>\n",
       "  </tbody>\n",
       "</table>\n",
       "</div>"
      ],
      "text/plain": [
       "   step      type    amount     nameOrig  oldbalanceOrg  newbalanceOrig  \\\n",
       "0     1   PAYMENT   9839.64  C1231006815       170136.0       160296.36   \n",
       "1     1   PAYMENT   1864.28  C1666544295        21249.0        19384.72   \n",
       "2     1  TRANSFER    181.00  C1305486145          181.0            0.00   \n",
       "3     1  CASH_OUT    181.00   C840083671          181.0            0.00   \n",
       "4     1   PAYMENT  11668.14  C2048537720        41554.0        29885.86   \n",
       "\n",
       "      nameDest  oldbalanceDest  newbalanceDest  isFraud  isFlaggedFraud  \n",
       "0  M1979787155             0.0             0.0        0               0  \n",
       "1  M2044282225             0.0             0.0        0               0  \n",
       "2   C553264065             0.0             0.0        1               0  \n",
       "3    C38997010         21182.0             0.0        1               0  \n",
       "4  M1230701703             0.0             0.0        0               0  "
      ]
     },
     "execution_count": 4,
     "metadata": {},
     "output_type": "execute_result"
    }
   ],
   "source": [
    "data.head()"
   ]
  },
  {
   "cell_type": "markdown",
   "metadata": {},
   "source": [
    "### What is the distribution of the outcome? "
   ]
  },
  {
   "cell_type": "code",
   "execution_count": 5,
   "metadata": {
    "ExecuteTime": {
     "end_time": "2020-05-01T19:56:22.574102Z",
     "start_time": "2020-05-01T19:56:21.441842Z"
    }
   },
   "outputs": [
    {
     "data": {
      "text/plain": [
       "step              0\n",
       "type              0\n",
       "amount            0\n",
       "nameOrig          0\n",
       "oldbalanceOrg     0\n",
       "newbalanceOrig    0\n",
       "nameDest          0\n",
       "oldbalanceDest    0\n",
       "newbalanceDest    0\n",
       "isFraud           0\n",
       "isFlaggedFraud    0\n",
       "dtype: int64"
      ]
     },
     "execution_count": 5,
     "metadata": {},
     "output_type": "execute_result"
    }
   ],
   "source": [
    "data.isnull().sum()"
   ]
  },
  {
   "cell_type": "code",
   "execution_count": 6,
   "metadata": {
    "ExecuteTime": {
     "end_time": "2020-05-01T19:56:22.730684Z",
     "start_time": "2020-05-01T19:56:22.577093Z"
    }
   },
   "outputs": [
    {
     "data": {
      "text/plain": [
       "0    6354407\n",
       "1       8213\n",
       "Name: isFraud, dtype: int64"
      ]
     },
     "execution_count": 6,
     "metadata": {},
     "output_type": "execute_result"
    }
   ],
   "source": [
    "# Your response here\n",
    "data['isFraud'].value_counts()"
   ]
  },
  {
   "cell_type": "markdown",
   "metadata": {},
   "source": [
    "### Clean the dataset. How are you going to integrate the time variable? Do you think the step (integer) coding in which it is given is appropriate?"
   ]
  },
  {
   "cell_type": "code",
   "execution_count": 7,
   "metadata": {
    "ExecuteTime": {
     "end_time": "2020-05-01T19:56:22.826479Z",
     "start_time": "2020-05-01T19:56:22.733675Z"
    }
   },
   "outputs": [
    {
     "data": {
      "text/plain": [
       "CASH_OUT    4116\n",
       "TRANSFER    4097\n",
       "Name: type, dtype: int64"
      ]
     },
     "execution_count": 7,
     "metadata": {},
     "output_type": "execute_result"
    }
   ],
   "source": [
    "data[data['isFraud'] == 1]['type'].value_counts()"
   ]
  },
  {
   "cell_type": "code",
   "execution_count": 8,
   "metadata": {
    "ExecuteTime": {
     "end_time": "2020-05-01T19:56:28.205093Z",
     "start_time": "2020-05-01T19:56:22.829470Z"
    }
   },
   "outputs": [],
   "source": [
    "# Your code here\n",
    "\"\"\"\n",
    "The frauds only occurs in CASH_OUT and TRANSFER types, so we can delete others\n",
    "\"\"\"\n",
    "\n",
    "data_reduced = data[data['type'].str.contains('CASH_OUT|TRANSFER')].copy()"
   ]
  },
  {
   "cell_type": "code",
   "execution_count": 9,
   "metadata": {
    "ExecuteTime": {
     "end_time": "2020-05-01T19:56:28.273911Z",
     "start_time": "2020-05-01T19:56:28.209086Z"
    }
   },
   "outputs": [
    {
     "data": {
      "text/plain": [
       "'\\nWe still have an imbalanced dataset\\n'"
      ]
     },
     "execution_count": 9,
     "metadata": {},
     "output_type": "execute_result"
    }
   ],
   "source": [
    "data_reduced['isFraud'].value_counts()\n",
    "\"\"\"\n",
    "We still have an imbalanced dataset\n",
    "\"\"\""
   ]
  },
  {
   "cell_type": "code",
   "execution_count": 10,
   "metadata": {
    "ExecuteTime": {
     "end_time": "2020-05-01T19:56:28.597078Z",
     "start_time": "2020-05-01T19:56:28.277900Z"
    }
   },
   "outputs": [
    {
     "data": {
      "text/plain": [
       "\"\\nI delete this two categorical columns because I can't do anything with them.\\n\""
      ]
     },
     "execution_count": 10,
     "metadata": {},
     "output_type": "execute_result"
    }
   ],
   "source": [
    "data_reduced.drop(['nameOrig', 'nameDest'], axis =1 , inplace =True)\n",
    "\"\"\"\n",
    "I delete this two categorical columns because I can't do anything with them.\n",
    "\"\"\""
   ]
  },
  {
   "cell_type": "code",
   "execution_count": 17,
   "metadata": {
    "ExecuteTime": {
     "end_time": "2020-05-01T20:08:48.740479Z",
     "start_time": "2020-05-01T20:08:48.138091Z"
    }
   },
   "outputs": [],
   "source": [
    "data_reduced = pd.get_dummies(data_reduced, columns = ['type'])\n",
    "\"\"\"\n",
    "Doing one hot encoding with the type column\n",
    "\"\"\""
   ]
  },
  {
   "cell_type": "code",
   "execution_count": 19,
   "metadata": {
    "ExecuteTime": {
     "end_time": "2020-05-01T20:14:20.978287Z",
     "start_time": "2020-05-01T20:14:20.957342Z"
    }
   },
   "outputs": [
    {
     "data": {
      "text/html": [
       "<div>\n",
       "<style scoped>\n",
       "    .dataframe tbody tr th:only-of-type {\n",
       "        vertical-align: middle;\n",
       "    }\n",
       "\n",
       "    .dataframe tbody tr th {\n",
       "        vertical-align: top;\n",
       "    }\n",
       "\n",
       "    .dataframe thead th {\n",
       "        text-align: right;\n",
       "    }\n",
       "</style>\n",
       "<table border=\"1\" class=\"dataframe\">\n",
       "  <thead>\n",
       "    <tr style=\"text-align: right;\">\n",
       "      <th></th>\n",
       "      <th>step</th>\n",
       "      <th>amount</th>\n",
       "      <th>oldbalanceOrg</th>\n",
       "      <th>newbalanceOrig</th>\n",
       "      <th>oldbalanceDest</th>\n",
       "      <th>newbalanceDest</th>\n",
       "      <th>isFraud</th>\n",
       "      <th>isFlaggedFraud</th>\n",
       "      <th>type_CASH_OUT</th>\n",
       "      <th>type_TRANSFER</th>\n",
       "    </tr>\n",
       "  </thead>\n",
       "  <tbody>\n",
       "    <tr>\n",
       "      <td>2</td>\n",
       "      <td>1</td>\n",
       "      <td>181.00</td>\n",
       "      <td>181.0</td>\n",
       "      <td>0.0</td>\n",
       "      <td>0.0</td>\n",
       "      <td>0.00</td>\n",
       "      <td>1</td>\n",
       "      <td>0</td>\n",
       "      <td>0</td>\n",
       "      <td>1</td>\n",
       "    </tr>\n",
       "    <tr>\n",
       "      <td>3</td>\n",
       "      <td>1</td>\n",
       "      <td>181.00</td>\n",
       "      <td>181.0</td>\n",
       "      <td>0.0</td>\n",
       "      <td>21182.0</td>\n",
       "      <td>0.00</td>\n",
       "      <td>1</td>\n",
       "      <td>0</td>\n",
       "      <td>1</td>\n",
       "      <td>0</td>\n",
       "    </tr>\n",
       "    <tr>\n",
       "      <td>15</td>\n",
       "      <td>1</td>\n",
       "      <td>229133.94</td>\n",
       "      <td>15325.0</td>\n",
       "      <td>0.0</td>\n",
       "      <td>5083.0</td>\n",
       "      <td>51513.44</td>\n",
       "      <td>0</td>\n",
       "      <td>0</td>\n",
       "      <td>1</td>\n",
       "      <td>0</td>\n",
       "    </tr>\n",
       "    <tr>\n",
       "      <td>19</td>\n",
       "      <td>1</td>\n",
       "      <td>215310.30</td>\n",
       "      <td>705.0</td>\n",
       "      <td>0.0</td>\n",
       "      <td>22425.0</td>\n",
       "      <td>0.00</td>\n",
       "      <td>0</td>\n",
       "      <td>0</td>\n",
       "      <td>0</td>\n",
       "      <td>1</td>\n",
       "    </tr>\n",
       "    <tr>\n",
       "      <td>24</td>\n",
       "      <td>1</td>\n",
       "      <td>311685.89</td>\n",
       "      <td>10835.0</td>\n",
       "      <td>0.0</td>\n",
       "      <td>6267.0</td>\n",
       "      <td>2719172.89</td>\n",
       "      <td>0</td>\n",
       "      <td>0</td>\n",
       "      <td>0</td>\n",
       "      <td>1</td>\n",
       "    </tr>\n",
       "  </tbody>\n",
       "</table>\n",
       "</div>"
      ],
      "text/plain": [
       "    step     amount  oldbalanceOrg  newbalanceOrig  oldbalanceDest  \\\n",
       "2      1     181.00          181.0             0.0             0.0   \n",
       "3      1     181.00          181.0             0.0         21182.0   \n",
       "15     1  229133.94        15325.0             0.0          5083.0   \n",
       "19     1  215310.30          705.0             0.0         22425.0   \n",
       "24     1  311685.89        10835.0             0.0          6267.0   \n",
       "\n",
       "    newbalanceDest  isFraud  isFlaggedFraud  type_CASH_OUT  type_TRANSFER  \n",
       "2             0.00        1               0              0              1  \n",
       "3             0.00        1               0              1              0  \n",
       "15        51513.44        0               0              1              0  \n",
       "19            0.00        0               0              0              1  \n",
       "24      2719172.89        0               0              0              1  "
      ]
     },
     "execution_count": 19,
     "metadata": {},
     "output_type": "execute_result"
    }
   ],
   "source": [
    "data_reduced.head()"
   ]
  },
  {
   "cell_type": "code",
   "execution_count": 18,
   "metadata": {
    "ExecuteTime": {
     "end_time": "2020-05-01T20:14:01.050638Z",
     "start_time": "2020-05-01T20:13:59.383097Z"
    }
   },
   "outputs": [
    {
     "name": "stdout",
     "output_type": "stream",
     "text": [
      "(16426, 9)\n",
      "(16426,)\n"
     ]
    },
    {
     "data": {
      "text/plain": [
       "'\\nRandom Under Sample\\n'"
      ]
     },
     "execution_count": 18,
     "metadata": {},
     "output_type": "execute_result"
    }
   ],
   "source": [
    "Ramdom_sample = RandomUnderSampler(random_state=42)\n",
    "\n",
    "X_rus, y_rus = Ramdom_sample.fit_resample(data_reduced.drop('isFraud', axis = 1), data_reduced['isFraud'])\n",
    "\n",
    "\n",
    "print(X_rus.shape)\n",
    "print(y_rus.shape)\n",
    "\"\"\"\n",
    "Random Under Sample\n",
    "\"\"\"\n",
    "\n"
   ]
  },
  {
   "cell_type": "code",
   "execution_count": 23,
   "metadata": {
    "ExecuteTime": {
     "end_time": "2020-05-01T20:30:42.110926Z",
     "start_time": "2020-05-01T20:30:04.187338Z"
    }
   },
   "outputs": [
    {
     "name": "stdout",
     "output_type": "stream",
     "text": [
      "(16426, 9)\n",
      "(16426,)\n"
     ]
    }
   ],
   "source": [
    "nr = NearMiss(random_state =42)\n",
    "X_nr, y_nr = nr.fit_resample(data_reduced.drop('isFraud', axis=1), data_reduced['isFraud'])\n",
    "\n",
    "print(X_nr.shape)\n",
    "print(y_nr.shape)"
   ]
  },
  {
   "cell_type": "markdown",
   "metadata": {},
   "source": [
    "### Run a logisitc regression classifier and evaluate its accuracy."
   ]
  },
  {
   "cell_type": "code",
   "execution_count": 44,
   "metadata": {
    "ExecuteTime": {
     "end_time": "2020-05-01T21:24:34.448782Z",
     "start_time": "2020-05-01T21:24:33.225049Z"
    }
   },
   "outputs": [],
   "source": [
    "X_train, X_test, y_train, y_test = train_test_split(data_reduced.drop('isFraud', axis=1),\n",
    "                                                    data_reduced['isFraud'], random_state = 42, test_size=0.2)\n",
    "X_train_rus, X_test_rus, y_train_rus, y_test_rus = train_test_split(X_rus, y_rus, \n",
    "                                                                    random_state=42, test_size=0.2)\n",
    "X_train_nr, X_test_nr, y_train_nr, y_test_nr = train_test_split(X_nr, y_nr, \n",
    "                                                                  random_state=42, test_size=0.2)\n",
    "\n",
    "\n"
   ]
  },
  {
   "cell_type": "code",
   "execution_count": 54,
   "metadata": {
    "ExecuteTime": {
     "end_time": "2020-05-01T21:29:40.425098Z",
     "start_time": "2020-05-01T21:29:04.840254Z"
    }
   },
   "outputs": [
    {
     "name": "stderr",
     "output_type": "stream",
     "text": [
      "C:\\Users\\jcmor\\Anaconda3\\lib\\site-packages\\sklearn\\linear_model\\logistic.py:432: FutureWarning: Default solver will be changed to 'lbfgs' in 0.22. Specify a solver to silence this warning.\n",
      "  FutureWarning)\n",
      "C:\\Users\\jcmor\\Anaconda3\\lib\\site-packages\\sklearn\\linear_model\\logistic.py:432: FutureWarning: Default solver will be changed to 'lbfgs' in 0.22. Specify a solver to silence this warning.\n",
      "  FutureWarning)\n",
      "C:\\Users\\jcmor\\Anaconda3\\lib\\site-packages\\sklearn\\linear_model\\logistic.py:432: FutureWarning: Default solver will be changed to 'lbfgs' in 0.22. Specify a solver to silence this warning.\n",
      "  FutureWarning)\n"
     ]
    }
   ],
   "source": [
    "Lore = LogisticRegression()\n",
    "#y_pred = Lore.fit(X_train, y_train).predict(X_test)\n",
    "y_pred_rus = Lore.fit(X_train_rus, y_train_rus).predict(X_test_rus)\n",
    "y_pred_nr = Lore.fit(X_train_nr, y_train_nr).predict(X_test_nr)\n"
   ]
  },
  {
   "cell_type": "code",
   "execution_count": 55,
   "metadata": {
    "ExecuteTime": {
     "end_time": "2020-05-01T21:29:43.113907Z",
     "start_time": "2020-05-01T21:29:40.955680Z"
    }
   },
   "outputs": [
    {
     "name": "stdout",
     "output_type": "stream",
     "text": [
      "[[551722    714]\n",
      " [   910    736]]\n",
      "              precision    recall  f1-score   support\n",
      "\n",
      "           0       1.00      1.00      1.00    552436\n",
      "           1       0.51      0.45      0.48      1646\n",
      "\n",
      "    accuracy                           1.00    554082\n",
      "   macro avg       0.75      0.72      0.74    554082\n",
      "weighted avg       1.00      1.00      1.00    554082\n",
      "\n",
      "[[1459  190]\n",
      " [  57 1580]]\n",
      "              precision    recall  f1-score   support\n",
      "\n",
      "           0       0.96      0.88      0.92      1649\n",
      "           1       0.89      0.97      0.93      1637\n",
      "\n",
      "    accuracy                           0.92      3286\n",
      "   macro avg       0.93      0.92      0.92      3286\n",
      "weighted avg       0.93      0.92      0.92      3286\n",
      "\n",
      "[[1470  179]\n",
      " [ 214 1423]]\n",
      "              precision    recall  f1-score   support\n",
      "\n",
      "           0       0.87      0.89      0.88      1649\n",
      "           1       0.89      0.87      0.88      1637\n",
      "\n",
      "    accuracy                           0.88      3286\n",
      "   macro avg       0.88      0.88      0.88      3286\n",
      "weighted avg       0.88      0.88      0.88      3286\n",
      "\n"
     ]
    }
   ],
   "source": [
    "print(confusion_matrix(y_test, y_pred))\n",
    "print(classification_report(y_test,y_pred))\n",
    "print(confusion_matrix(y_test_rus,y_pred_rus))\n",
    "print(classification_report(y_test_rus, y_pred_rus))\n",
    "print(confusion_matrix(y_test_nr,y_pred_nr))\n",
    "print(classification_report(y_test_nr, y_pred_nr))\n",
    "\n",
    "\"\"\"\n",
    "The first without correct the unbalanced data did very bab with the fraud data\n",
    "\n",
    "The second with random balanced data was the best with 0.92\n",
    "\"\"\"\n"
   ]
  },
  {
   "cell_type": "markdown",
   "metadata": {},
   "source": [
    "### Now pick a model of your choice and evaluate its accuracy."
   ]
  },
  {
   "cell_type": "code",
   "execution_count": 68,
   "metadata": {
    "ExecuteTime": {
     "end_time": "2020-05-01T21:47:47.502043Z",
     "start_time": "2020-05-01T21:47:47.328476Z"
    }
   },
   "outputs": [
    {
     "name": "stdout",
     "output_type": "stream",
     "text": [
      "[[1561   88]\n",
      " [  75 1562]]\n",
      "              precision    recall  f1-score   support\n",
      "\n",
      "           0       0.95      0.95      0.95      1649\n",
      "           1       0.95      0.95      0.95      1637\n",
      "\n",
      "    accuracy                           0.95      3286\n",
      "   macro avg       0.95      0.95      0.95      3286\n",
      "weighted avg       0.95      0.95      0.95      3286\n",
      "\n"
     ]
    }
   ],
   "source": [
    "neigh_rus = KNeighborsClassifier(n_neighbors = 3).fit(X_train_rus, y_train_rus)\n",
    "\n",
    "y_neigh_pred_rus = neigh_rus.predict(X_test_rus)\n",
    "\n",
    "print(confusion_matrix(y_test_rus, y_neigh_pred_rus))\n",
    "\n",
    "print(classification_report(y_test_rus, y_neigh_pred_rus))"
   ]
  },
  {
   "cell_type": "code",
   "execution_count": 75,
   "metadata": {
    "ExecuteTime": {
     "end_time": "2020-05-01T21:57:44.277832Z",
     "start_time": "2020-05-01T21:57:44.092328Z"
    }
   },
   "outputs": [
    {
     "name": "stdout",
     "output_type": "stream",
     "text": [
      "[[1562   87]\n",
      " [  65 1572]]\n",
      "              precision    recall  f1-score   support\n",
      "\n",
      "           0       0.96      0.95      0.95      1649\n",
      "           1       0.95      0.96      0.95      1637\n",
      "\n",
      "    accuracy                           0.95      3286\n",
      "   macro avg       0.95      0.95      0.95      3286\n",
      "weighted avg       0.95      0.95      0.95      3286\n",
      "\n"
     ]
    }
   ],
   "source": [
    "neigh_nr = KNeighborsClassifier(n_neighbors = 3).fit(X_train_nr, y_train_nr)\n",
    "\n",
    "y_neigh_pred_nr = neigh_nr.predict(X_test_nr)\n",
    "\n",
    "print(confusion_matrix(y_test_nr, y_neigh_pred_nr))\n",
    "\n",
    "print(classification_report(y_test_nr, y_neigh_pred_nr))"
   ]
  },
  {
   "cell_type": "code",
   "execution_count": 74,
   "metadata": {
    "ExecuteTime": {
     "end_time": "2020-05-01T21:56:11.343954Z",
     "start_time": "2020-05-01T21:56:10.950004Z"
    }
   },
   "outputs": [
    {
     "name": "stdout",
     "output_type": "stream",
     "text": [
      "[[1582   67]\n",
      " [  59 1578]]\n",
      "              precision    recall  f1-score   support\n",
      "\n",
      "           0       0.96      0.96      0.96      1649\n",
      "           1       0.96      0.96      0.96      1637\n",
      "\n",
      "    accuracy                           0.96      3286\n",
      "   macro avg       0.96      0.96      0.96      3286\n",
      "weighted avg       0.96      0.96      0.96      3286\n",
      "\n"
     ]
    }
   ],
   "source": [
    "X_train_robust_rus = RobustScaler().fit(X_train_rus).transform(X_train_rus)\n",
    "X_test_robust_rus = RobustScaler().fit(X_test_rus).transform(X_test_rus)\n",
    "\n",
    "neigh_rus = KNeighborsClassifier(n_neighbors = 3).fit(X_train_robust_rus, y_train_rus)\n",
    "\n",
    "y_neigh_pred_rus = neigh_rus.predict(X_test_robust_rus)\n",
    "\n",
    "print(confusion_matrix(y_test_rus, y_neigh_pred_rus))\n",
    "\n",
    "print(classification_report(y_test_rus, y_neigh_pred_rus))"
   ]
  },
  {
   "cell_type": "code",
   "execution_count": 76,
   "metadata": {
    "ExecuteTime": {
     "end_time": "2020-05-01T21:58:05.297140Z",
     "start_time": "2020-05-01T21:58:04.920152Z"
    }
   },
   "outputs": [
    {
     "name": "stdout",
     "output_type": "stream",
     "text": [
      "[[1593   56]\n",
      " [  87 1550]]\n",
      "              precision    recall  f1-score   support\n",
      "\n",
      "           0       0.95      0.97      0.96      1649\n",
      "           1       0.97      0.95      0.96      1637\n",
      "\n",
      "    accuracy                           0.96      3286\n",
      "   macro avg       0.96      0.96      0.96      3286\n",
      "weighted avg       0.96      0.96      0.96      3286\n",
      "\n"
     ]
    }
   ],
   "source": [
    "X_train_robust_nr = RobustScaler().fit(X_train_nr).transform(X_train_nr)\n",
    "X_test_robust_nr = RobustScaler().fit(X_test_nr).transform(X_test_nr)\n",
    "\n",
    "neigh_nr = KNeighborsClassifier(n_neighbors = 3).fit(X_train_robust_nr, y_train_nr)\n",
    "\n",
    "y_neigh_pred_nr = neigh_nr.predict(X_test_robust_nr)\n",
    "\n",
    "print(confusion_matrix(y_test_nr, y_neigh_pred_nr))\n",
    "\n",
    "print(classification_report(y_test_nr, y_neigh_pred_nr))"
   ]
  },
  {
   "cell_type": "code",
   "execution_count": 80,
   "metadata": {
    "ExecuteTime": {
     "end_time": "2020-05-01T22:14:09.527824Z",
     "start_time": "2020-05-01T22:13:58.961858Z"
    }
   },
   "outputs": [
    {
     "name": "stdout",
     "output_type": "stream",
     "text": [
      "[[1599   50]\n",
      " [   6 1631]]\n",
      "              precision    recall  f1-score   support\n",
      "\n",
      "           0       1.00      0.97      0.98      1649\n",
      "           1       0.97      1.00      0.98      1637\n",
      "\n",
      "    accuracy                           0.98      3286\n",
      "   macro avg       0.98      0.98      0.98      3286\n",
      "weighted avg       0.98      0.98      0.98      3286\n",
      "\n"
     ]
    },
    {
     "name": "stderr",
     "output_type": "stream",
     "text": [
      "C:\\Users\\jcmor\\Anaconda3\\lib\\site-packages\\sklearn\\neural_network\\multilayer_perceptron.py:566: ConvergenceWarning: Stochastic Optimizer: Maximum iterations (200) reached and the optimization hasn't converged yet.\n",
      "  % self.max_iter, ConvergenceWarning)\n"
     ]
    }
   ],
   "source": [
    "from sklearn.neural_network import MLPClassifier\n",
    "multi_layer_perceptron = MLPClassifier(random_state =42).fit(X_train_rus, y_train_rus)\n",
    "y_mlp_pred_rus = multi_layer_perceptron.predict(X_test_rus)\n",
    "\n",
    "print(confusion_matrix(y_test_rus, y_mlp_pred_rus))\n",
    "\n",
    "print(classification_report(y_test_rus, y_mlp_pred_rus))"
   ]
  },
  {
   "cell_type": "code",
   "execution_count": 83,
   "metadata": {
    "ExecuteTime": {
     "end_time": "2020-05-01T22:19:48.787179Z",
     "start_time": "2020-05-01T22:19:38.413920Z"
    }
   },
   "outputs": [
    {
     "name": "stdout",
     "output_type": "stream",
     "text": [
      "[[1621   28]\n",
      " [  84 1553]]\n",
      "              precision    recall  f1-score   support\n",
      "\n",
      "           0       0.95      0.98      0.97      1649\n",
      "           1       0.98      0.95      0.97      1637\n",
      "\n",
      "    accuracy                           0.97      3286\n",
      "   macro avg       0.97      0.97      0.97      3286\n",
      "weighted avg       0.97      0.97      0.97      3286\n",
      "\n"
     ]
    },
    {
     "name": "stderr",
     "output_type": "stream",
     "text": [
      "C:\\Users\\jcmor\\Anaconda3\\lib\\site-packages\\sklearn\\neural_network\\multilayer_perceptron.py:566: ConvergenceWarning: Stochastic Optimizer: Maximum iterations (200) reached and the optimization hasn't converged yet.\n",
      "  % self.max_iter, ConvergenceWarning)\n"
     ]
    }
   ],
   "source": [
    "multi_layer_perceptron = MLPClassifier(random_state =42).fit(X_train_nr, y_train_nr)\n",
    "y_mlp_pred_nr = multi_layer_perceptron.predict(X_test_nr)\n",
    "\n",
    "print(confusion_matrix(y_test_nr, y_mlp_pred_nr))\n",
    "\n",
    "print(classification_report(y_test_nr, y_mlp_pred_nr))"
   ]
  },
  {
   "cell_type": "markdown",
   "metadata": {},
   "source": [
    "### Which model worked better and how do you know?"
   ]
  },
  {
   "cell_type": "code",
   "execution_count": null,
   "metadata": {
    "ExecuteTime": {
     "end_time": "2020-05-01T19:56:35.137082Z",
     "start_time": "2020-05-01T19:54:55.069Z"
    }
   },
   "outputs": [],
   "source": [
    "# Your response here\n",
    "\"\"\"\n",
    "The best model that I found it is the MLPClassifier (NeuralNetwork) with data balanced (random under sampling)\n",
    "with 0.98 precision, recall and f1-score.\n",
    "\"\"\"\n",
    "\n"
   ]
  }
 ],
 "metadata": {
  "kernelspec": {
   "display_name": "Python 3",
   "language": "python",
   "name": "python3"
  },
  "language_info": {
   "codemirror_mode": {
    "name": "ipython",
    "version": 3
   },
   "file_extension": ".py",
   "mimetype": "text/x-python",
   "name": "python",
   "nbconvert_exporter": "python",
   "pygments_lexer": "ipython3",
   "version": "3.7.4"
  },
  "toc": {
   "base_numbering": 1,
   "nav_menu": {},
   "number_sections": true,
   "sideBar": true,
   "skip_h1_title": false,
   "title_cell": "Table of Contents",
   "title_sidebar": "Contents",
   "toc_cell": false,
   "toc_position": {},
   "toc_section_display": true,
   "toc_window_display": false
  },
  "varInspector": {
   "cols": {
    "lenName": 16,
    "lenType": 16,
    "lenVar": 40
   },
   "kernels_config": {
    "python": {
     "delete_cmd_postfix": "",
     "delete_cmd_prefix": "del ",
     "library": "var_list.py",
     "varRefreshCmd": "print(var_dic_list())"
    },
    "r": {
     "delete_cmd_postfix": ") ",
     "delete_cmd_prefix": "rm(",
     "library": "var_list.r",
     "varRefreshCmd": "cat(var_dic_list()) "
    }
   },
   "types_to_exclude": [
    "module",
    "function",
    "builtin_function_or_method",
    "instance",
    "_Feature"
   ],
   "window_display": false
  }
 },
 "nbformat": 4,
 "nbformat_minor": 2
}
